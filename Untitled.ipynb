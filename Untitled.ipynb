{
 "cells": [
  {
   "cell_type": "code",
   "execution_count": 53,
   "id": "87321472",
   "metadata": {},
   "outputs": [],
   "source": [
    "from nbconvert import NbConvertApp\n",
    "from nbconvert.filters import Highlight2HTML\n",
    "import nbformat, pprint, markdown, textwrap\n",
    "from jinja2 import Environment, FileSystemLoader\n",
    "\n",
    "from pygments import highlight\n",
    "from pygments.lexers import PythonLexer\n",
    "from pygments.formatters import HtmlFormatter\n",
    "\n",
    "\n",
    "class Cell(object):\n",
    "    \n",
    "    def __init__(self, cell_type, source):\n",
    "        self.cell_type = cell_type\n",
    "        self.source = source\n",
    "        \n",
    "    @staticmethod\n",
    "    def from_nbcell(nbcell):\n",
    "        cell_type = nbcell[\"cell_type\"]\n",
    "        if cell_type == \"code\":\n",
    "            return Cell(\"code\", nbcell[\"source\"])\n",
    "        elif cell_type == \"markdown\":\n",
    "            return Cell(\"markdown\", markdown.markdown(nbcell[\"source\"], \n",
    "                            extensions=['fenced_code', 'codehilite']))\n",
    "        else:\n",
    "            return None\n",
    "            \n",
    "\n",
    "class Converter(object):\n",
    "    \n",
    "    def __init__(self, template, stylesheet=\"./css/styles.css\"):\n",
    "        self.JEnv = Environment(\n",
    "            loader=FileSystemLoader([\"./templates\"])\n",
    "            )\n",
    "        #for n, f in filters.items():\n",
    "        #    self.JEnv.filters[n] = f\n",
    "\n",
    "        self.Template = self.JEnv.get_template(template)\n",
    "        self.StyleSheet = stylesheet\n",
    "        \n",
    "    def convert_cells(self, cells):\n",
    "        for cell in cells:\n",
    "            converted = Cell.from_nbcell(cell)\n",
    "            if converted is not None:\n",
    "                print(\"converted: source:\", converted.source)\n",
    "                yield converted\n",
    "        \n",
    "        \n",
    "    def convert(self, nb_path, out_path):\n",
    "        with open(nb_path, \"r\") as notebook:\n",
    "            node=nbformat.read(notebook, as_version=4)\n",
    "            rendered = self.Template.generate(cells=self.convert_cells(node[\"cells\"]), stylesheet=self.StyleSheet)\n",
    "            with open(out_path, \"w\") as output:\n",
    "                for fragment in rendered:\n",
    "                    output.write(fragment)\n",
    "\n",
    "                    \n",
    "cvt=Converter(\"slides.html\")\n",
    "cvt.convert(\"sample.ipynb\", \"sample.html\")\n"
   ]
  },
  {
   "cell_type": "code",
   "execution_count": 50,
   "id": "5576ec7d",
   "metadata": {},
   "outputs": [
    {
     "name": "stdout",
     "output_type": "stream",
     "text": [
      "---cell---\n",
      "{'cell_type': 'code',\n",
      " 'execution_count': None,\n",
      " 'id': 'a9259abe',\n",
      " 'metadata': {'slideshow': {'slide_type': 'slide'}},\n",
      " 'outputs': [],\n",
      " 'source': 'import sys\\nprint(\"hello\")\\n\\nfor i in range(10):\\n    print i**2'}\n",
      "---cell---\n",
      "{'cell_type': 'markdown',\n",
      " 'id': 'a4e40b61',\n",
      " 'metadata': {'slideshow': {'slide_type': 'subslide'}},\n",
      " 'source': '# title\\n## subtitle\\n\\n```python\\nimport sys\\nprint(\"hello\")\\n```'}\n"
     ]
    }
   ],
   "source": [
    "for cell in cells:\n",
    "    print(\"---cell---\")\n",
    "    pprint.pprint(cell)\n"
   ]
  },
  {
   "cell_type": "code",
   "execution_count": 58,
   "id": "e38055e1",
   "metadata": {},
   "outputs": [
    {
     "name": "stdout",
     "output_type": "stream",
     "text": [
      "converted: source: from typing import Iterator\n",
      "\n",
      "# This is an example\n",
      "class Math:\n",
      "    @staticmethod\n",
      "    def fib(n: int) -> Iterator[int]:\n",
      "        \"\"\" Fibonacci series up to n \"\"\"\n",
      "        a, b = 0, 1\n",
      "        while a < n:\n",
      "            yield a\n",
      "            a, b = b, a + b\n",
      "\n",
      "result = sum(Math.fib(42))\n",
      "print(\"The answer is {}\".format(result))\n",
      "converted: source: <h1>title</h1>\n",
      "<h2>subtitle</h2>\n",
      "<div class=\"codehilite\"><pre><span></span><span class=\"kn\">from</span> <span class=\"nn\">typing</span> <span class=\"kn\">import</span> <span class=\"n\">Iterator</span>\n",
      "\n",
      "<span class=\"c1\"># This is an example</span>\n",
      "<span class=\"k\">class</span> <span class=\"nc\">Math</span><span class=\"p\">:</span>\n",
      "    <span class=\"nd\">@staticmethod</span>\n",
      "    <span class=\"k\">def</span> <span class=\"nf\">fib</span><span class=\"p\">(</span><span class=\"n\">n</span><span class=\"p\">:</span> <span class=\"nb\">int</span><span class=\"p\">)</span> <span class=\"o\">-&gt;</span> <span class=\"n\">Iterator</span><span class=\"p\">[</span><span class=\"nb\">int</span><span class=\"p\">]:</span>\n",
      "        <span class=\"sd\">&quot;&quot;&quot; Fibonacci series up to n &quot;&quot;&quot;</span>\n",
      "        <span class=\"n\">a</span><span class=\"p\">,</span> <span class=\"n\">b</span> <span class=\"o\">=</span> <span class=\"mi\">0</span><span class=\"p\">,</span> <span class=\"mi\">1</span>\n",
      "        <span class=\"k\">while</span> <span class=\"n\">a</span> <span class=\"o\">&lt;</span> <span class=\"n\">n</span><span class=\"p\">:</span>\n",
      "            <span class=\"k\">yield</span> <span class=\"n\">a</span>\n",
      "            <span class=\"n\">a</span><span class=\"p\">,</span> <span class=\"n\">b</span> <span class=\"o\">=</span> <span class=\"n\">b</span><span class=\"p\">,</span> <span class=\"n\">a</span> <span class=\"o\">+</span> <span class=\"n\">b</span>\n",
      "\n",
      "<span class=\"n\">result</span> <span class=\"o\">=</span> <span class=\"nb\">sum</span><span class=\"p\">(</span><span class=\"n\">Math</span><span class=\"o\">.</span><span class=\"n\">fib</span><span class=\"p\">(</span><span class=\"mi\">42</span><span class=\"p\">))</span>\n",
      "<span class=\"nb\">print</span><span class=\"p\">(</span><span class=\"s2\">&quot;The answer is </span><span class=\"si\">{}</span><span class=\"s2\">&quot;</span><span class=\"o\">.</span><span class=\"n\">format</span><span class=\"p\">(</span><span class=\"n\">result</span><span class=\"p\">))</span>\n",
      "</pre></div>\n"
     ]
    }
   ],
   "source": [
    "cvt=Converter(\"slides.html\")\n",
    "cvt.convert(\"sample.ipynb\", \"sample.html\")\n",
    "    "
   ]
  },
  {
   "cell_type": "code",
   "execution_count": null,
   "id": "c6eb5f74",
   "metadata": {},
   "outputs": [],
   "source": []
  }
 ],
 "metadata": {
  "celltoolbar": "Slideshow",
  "kernelspec": {
   "display_name": "Python 3",
   "language": "python",
   "name": "python3"
  },
  "language_info": {
   "codemirror_mode": {
    "name": "ipython",
    "version": 3
   },
   "file_extension": ".py",
   "mimetype": "text/x-python",
   "name": "python",
   "nbconvert_exporter": "python",
   "pygments_lexer": "ipython3",
   "version": "3.7.3"
  }
 },
 "nbformat": 4,
 "nbformat_minor": 5
}
