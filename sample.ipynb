{
 "cells": [
  {
   "cell_type": "code",
   "execution_count": null,
   "id": "960f9acb",
   "metadata": {
    "slideshow": {
     "slide_type": "slide"
    }
   },
   "outputs": [],
   "source": [
    "from typing import Iterator\n",
    "\n",
    "# This is an example\n",
    "class Math:\n",
    "    @staticmethod\n",
    "    def fib(n: int) -> Iterator[int]:\n",
    "        \"\"\" Fibonacci series up to n \"\"\"\n",
    "        a, b = 0, 1\n",
    "        while a < n:\n",
    "            yield a\n",
    "            a, b = b, a + b\n",
    "\n",
    "result = sum(Math.fib(42))\n",
    "print(\"The answer is {}\".format(result))"
   ]
  },
  {
   "cell_type": "markdown",
   "id": "3669e7fd",
   "metadata": {
    "slideshow": {
     "slide_type": "subslide"
    }
   },
   "source": [
    "# title\n",
    "## subtitle\n",
    "\n",
    "```python\n",
    "from typing import Iterator\n",
    "\n",
    "# This is an example\n",
    "class Math:\n",
    "    @staticmethod\n",
    "    def fib(n: int) -> Iterator[int]:\n",
    "        \"\"\" Fibonacci series up to n \"\"\"\n",
    "        a, b = 0, 1\n",
    "        while a < n:\n",
    "            yield a\n",
    "            a, b = b, a + b\n",
    "\n",
    "result = sum(Math.fib(42))\n",
    "print(\"The answer is {}\".format(result))\n",
    "```"
   ]
  }
 ],
 "metadata": {
  "celltoolbar": "Slideshow",
  "kernelspec": {
   "display_name": "Python 3",
   "language": "python",
   "name": "python3"
  },
  "language_info": {
   "codemirror_mode": {
    "name": "ipython",
    "version": 3
   },
   "file_extension": ".py",
   "mimetype": "text/x-python",
   "name": "python",
   "nbconvert_exporter": "python",
   "pygments_lexer": "ipython3",
   "version": "3.7.3"
  }
 },
 "nbformat": 4,
 "nbformat_minor": 5
}
